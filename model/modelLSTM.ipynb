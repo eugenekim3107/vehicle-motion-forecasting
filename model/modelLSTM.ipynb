{
 "cells": [
  {
   "cell_type": "code",
   "execution_count": 1,
   "metadata": {},
   "outputs": [
    {
     "data": {
      "text/plain": [
       "'\\n    number of trajectories in each city\\n    # austin --  train: 43041 test: 6325 \\n    # miami -- train: 55029 test:7971\\n    # pittsburgh -- train: 43544 test: 6361\\n    # dearborn -- train: 24465 test: 3671\\n    # washington-dc -- train: 25744 test: 3829\\n    # palo-alto -- train:  11993 test:1686\\n\\n    trajectories sampled at 10HZ rate, input 5 seconds, output 6 seconds\\n    \\n'"
      ]
     },
     "execution_count": 1,
     "metadata": {},
     "output_type": "execute_result"
    }
   ],
   "source": [
    "import torch\n",
    "from torch.utils.data import Dataset, DataLoader\n",
    "import os, os.path \n",
    "import numpy \n",
    "import pickle\n",
    "import matplotlib.pyplot as plt\n",
    "from glob import glob\n",
    "import torch.autograd as autograd\n",
    "import torch.nn as nn\n",
    "import torch.nn.functional as F\n",
    "import torch.optim as optim\n",
    "from torch.autograd import Variable\n",
    "\n",
    "\"\"\"\n",
    "    number of trajectories in each city\n",
    "    # austin --  train: 43041 test: 6325 \n",
    "    # miami -- train: 55029 test:7971\n",
    "    # pittsburgh -- train: 43544 test: 6361\n",
    "    # dearborn -- train: 24465 test: 3671\n",
    "    # washington-dc -- train: 25744 test: 3829\n",
    "    # palo-alto -- train:  11993 test:1686\n",
    "\n",
    "    trajectories sampled at 10HZ rate, input 5 seconds, output 6 seconds\n",
    "    \n",
    "\"\"\""
   ]
  },
  {
   "cell_type": "code",
   "execution_count": 2,
   "metadata": {},
   "outputs": [],
   "source": [
    "from glob import glob\n",
    "import pickle\n",
    "import numpy as np\n",
    "from sklearn.preprocessing import MinMaxScaler\n",
    "\n",
    "ROOT_PATH = \"./argo2/\"\n",
    "\n",
    "cities = [\"austin\", \"miami\", \"pittsburgh\", \"dearborn\", \"washington-dc\", \"palo-alto\"]\n",
    "splits = [\"train\", \"test\"]\n",
    "sc = MinMaxScaler()\n",
    "\n",
    "def get_city_trajectories(city=\"palo-alto\", split=\"train\", normalized=False):\n",
    "    \n",
    "    outputs = None\n",
    "    \n",
    "    if split==\"train\":\n",
    "        f_in = ROOT_PATH + split + \"/\" + city + \"_inputs\"\n",
    "        inputs = pickle.load(open(f_in, \"rb\"))\n",
    "        n = len(inputs)\n",
    "        inputs = np.asarray(inputs)[:int(n * 0.8)]\n",
    "        \n",
    "        f_out = ROOT_PATH + split + \"/\" + city + \"_outputs\"\n",
    "        outputs = pickle.load(open(f_out, \"rb\"))\n",
    "        outputs = np.asarray(outputs)[:int(n * 0.8)]\n",
    "        \n",
    "        full_data = np.concatenate((inputs, outputs), axis=1)\n",
    "        full_data = full_data.reshape((-1,110))\n",
    "        full_data = sc.fit_transform(full_data)\n",
    "        full_data = full_data.reshape((-1,110,2))\n",
    "        full_data = np.split(full_data, [50,110], axis=1)\n",
    "        \n",
    "        inputs = Variable(torch.tensor(full_data[0], dtype=torch.float32))\n",
    "        outputs = Variable(torch.tensor(full_data[1], dtype=torch.float32))\n",
    "        \n",
    "    elif split == 'val':\n",
    "        f_in = ROOT_PATH + 'train' + \"/\" + city + \"_inputs\"\n",
    "        inputs = pickle.load(open(f_in, \"rb\"))\n",
    "        n = len(inputs)\n",
    "        inputs = np.asarray(inputs)[int(n * 0.8):]\n",
    "        \n",
    "        f_out = ROOT_PATH + 'train' + \"/\" + city + \"_outputs\"\n",
    "        outputs = pickle.load(open(f_out, \"rb\"))\n",
    "        outputs = np.asarray(outputs)[int(n * 0.8):]\n",
    "        \n",
    "        full_data = np.concatenate((inputs, outputs), axis=1)\n",
    "        full_data = full_data.reshape((-1,110))\n",
    "        full_data = sc.fit_transform(full_data)\n",
    "        full_data = full_data.reshape((-1,110,2))\n",
    "        full_data = np.split(full_data, [50,110], axis=1)\n",
    "        \n",
    "        inputs = Variable(torch.tensor(full_data[0], dtype=torch.float32))\n",
    "        outputs = Variable(torch.tensor(full_data[1], dtype=torch.float32))\n",
    "    \n",
    "    else:\n",
    "        f_in = ROOT_PATH + split + \"/\" + city + \"_inputs\"\n",
    "        inputs = pickle.load(open(f_in, \"rb\"))\n",
    "        n = len(inputs)\n",
    "        inputs = np.asarray(inputs)\n",
    "        \n",
    "        full_data = np.concatenate((inputs, outputs), axis=1)\n",
    "        full_data = full_data.reshape((-1,110))\n",
    "        full_data = sc.fit_transform(full_data)\n",
    "        full_data = full_data.reshape((-1,110,2))\n",
    "        full_data = np.split(full_data, [50,110], axis=1)\n",
    "        \n",
    "        inputs = Variable(torch.tensor(full_data[0], dtype=torch.float32))\n",
    "        outputs = Variable(torch.tensor(full_data[1], dtype=torch.float32))\n",
    "\n",
    "    return inputs, outputs\n",
    "\n",
    "class ArgoverseDataset(Dataset):\n",
    "    \"\"\"Dataset class for Argoverse\"\"\"\n",
    "    def __init__(self, city: str, split:str, transform=None):\n",
    "        super(ArgoverseDataset, self).__init__()\n",
    "        self.transform = transform\n",
    "\n",
    "        self.inputs, self.outputs = get_city_trajectories(city=city, split=split, normalized=False)\n",
    "\n",
    "    def __len__(self):\n",
    "        return len(self.inputs)\n",
    "\n",
    "    def __getitem__(self, idx):\n",
    "\n",
    "        data = (self.inputs[idx], self.outputs[idx])\n",
    "            \n",
    "        if self.transform:\n",
    "            data = self.transform(data)\n",
    "\n",
    "        return data\n",
    "\n",
    "# intialize a dataset\n",
    "city = 'palo-alto' \n",
    "split = 'train'\n",
    "train_dataset  = ArgoverseDataset(city = city, split = split)"
   ]
  },
  {
   "cell_type": "code",
   "execution_count": 3,
   "metadata": {},
   "outputs": [],
   "source": [
    "train_dataset = ArgoverseDataset(city = city, split= 'train')\n",
    "val_dataset = ArgoverseDataset(city = city, split = 'val')"
   ]
  },
  {
   "cell_type": "code",
   "execution_count": 4,
   "metadata": {},
   "outputs": [],
   "source": [
    "batch_sz = 50  # batch size \n",
    "val_loader = DataLoader(val_dataset,batch_size=batch_sz)\n",
    "train_loader = DataLoader(train_dataset,batch_size=batch_sz)"
   ]
  },
  {
   "cell_type": "code",
   "execution_count": 5,
   "metadata": {},
   "outputs": [],
   "source": [
    "class LSTM(nn.Module):\n",
    "\n",
    "    def __init__(self, num_classes, input_size, hidden_size, num_layers):\n",
    "        super(LSTM, self).__init__()\n",
    "        \n",
    "        self.num_classes = num_classes\n",
    "        self.num_layers = num_layers\n",
    "        self.input_size = input_size\n",
    "        self.hidden_size = hidden_size\n",
    "        self.seq_length = seq_length\n",
    "        \n",
    "        self.lstm = nn.LSTM(input_size=input_size, hidden_size=hidden_size,\n",
    "                            num_layers=num_layers, batch_first=True)\n",
    "        \n",
    "        self.fc = nn.Linear(hidden_size, num_classes)\n",
    "        \n",
    "    def forward(self, x):  \n",
    "        \n",
    "        h_0 = Variable(torch.zeros(\n",
    "            self.num_layers, x.size(0), self.hidden_size))\n",
    "        \n",
    "        c_0 = Variable(torch.zeros(\n",
    "            self.num_layers, x.size(0), self.hidden_size))\n",
    "        \n",
    "        # Propagate input through LSTM\n",
    "        ula, (h_out, _) = self.lstm(x, (h_0, c_0))\n",
    "        \n",
    "        h_out = h_out.view(-1, self.hidden_size)\n",
    "        \n",
    "        out = self.fc(h_out)\n",
    "        \n",
    "        return out"
   ]
  },
  {
   "cell_type": "code",
   "execution_count": 6,
   "metadata": {},
   "outputs": [
    {
     "name": "stdout",
     "output_type": "stream",
     "text": [
      "epoch 0 loss: 0.0002077645033225873\n",
      "epoch 1 loss: 6.22388784414188e-06\n",
      "epoch 2 loss: 4.508034372833434e-06\n",
      "epoch 3 loss: 4.089621112160233e-06\n",
      "epoch 4 loss: 3.3664878518743662e-06\n",
      "epoch 5 loss: 4.057598363666476e-06\n",
      "epoch 6 loss: 1.8017910194667405e-06\n",
      "epoch 7 loss: 2.653271330012561e-06\n",
      "epoch 8 loss: 7.3747969280840595e-06\n",
      "epoch 9 loss: 1.106646673244142e-05\n"
     ]
    }
   ],
   "source": [
    "seq_length = 50\n",
    "num_epochs = 10\n",
    "learning_rate = 0.01\n",
    "\n",
    "input_size = 2\n",
    "hidden_size = 50\n",
    "num_layers = 1\n",
    "\n",
    "num_classes = 2\n",
    "\n",
    "lstm = LSTM(num_classes, input_size, hidden_size, num_layers)\n",
    "\n",
    "criterion = torch.nn.MSELoss()    # mean-squared error for regression\n",
    "optimizer = torch.optim.Adam(lstm.parameters(), lr=learning_rate)\n",
    "\n",
    "\n",
    "for epoch in range(num_epochs):\n",
    "    total_loss = 0\n",
    "    \n",
    "    for i_batch, sample_batch in enumerate(val_loader):\n",
    "        inp, out = sample_batch\n",
    "        for i in range(60):\n",
    "            temp_out = out[:,i,:]\n",
    "            outputs = lstm(inp)\n",
    "            optimizer.zero_grad()\n",
    "            loss = criterion(outputs, temp_out)\n",
    "            loss.backward()\n",
    "            optimizer.step()\n",
    "            total_loss+=loss.item()\n",
    "            temp_out = temp_out.reshape((-1,1,2))\n",
    "            inp = torch.cat((inp[:,1:],temp_out), axis=1)\n",
    "        \n",
    "    print('epoch {} loss: {}'.format(epoch, total_loss / len(train_dataset)))"
   ]
  },
  {
   "cell_type": "code",
   "execution_count": 22,
   "metadata": {},
   "outputs": [],
   "source": [
    "torch.save(lstm.state_dict(), \"lstm.pth\")"
   ]
  },
  {
   "cell_type": "code",
   "execution_count": 15,
   "metadata": {
    "scrolled": true
   },
   "outputs": [],
   "source": [
    "def create_random_plot():\n",
    "    for i_batch, sample_batch in enumerate(val_loader):\n",
    "        rand = np.random.randint(batch_sz, size=1)\n",
    "        inp, out = sample_batch\n",
    "        true_full = np.concatenate((inp,out),axis=1)\n",
    "        preds = []\n",
    "        for i in range(50):\n",
    "            preds.append(np.array(inp[rand,i,:]))\n",
    "        for i in range(60):\n",
    "            pred = lstm(torch.tensor(true_full[:,i:i+50,:],dtype=torch.float32)).detach().numpy()\n",
    "            preds.append(np.array(pred[rand,:]))\n",
    "        preds = np.array(preds).reshape(-1,110)\n",
    "        preds = sc.inverse_transform(preds)\n",
    "        preds = preds.reshape(110,2)\n",
    "        pred_x = preds[:,0]\n",
    "        pred_y = preds[:,1]\n",
    "        true_full = true_full.reshape(-1,110)\n",
    "        true_full = sc.inverse_transform(true_full)\n",
    "        true_full = true_full.reshape(-1,110,2)\n",
    "        true_x = true_full[rand,:,0]\n",
    "        true_y = true_full[rand,:,1]\n",
    "        plt.scatter(true_x,true_y, color='blue', alpha=0.5)\n",
    "        plt.scatter(pred_x,pred_y, color='green', alpha=0.5)\n",
    "        plt.show()\n",
    "        break"
   ]
  },
  {
   "cell_type": "code",
   "execution_count": 20,
   "metadata": {},
   "outputs": [
    {
     "data": {
      "image/png": "[encoded data removed]",
      "text/plain": [
       "<Figure size 432x288 with 1 Axes>"
      ]
     },
     "metadata": {
      "needs_background": "light"
     },
     "output_type": "display_data"
    }
   ],
   "source": [
    "create_random_plot()"
   ]
  },
  {
   "cell_type": "code",
   "execution_count": null,
   "metadata": {},
   "outputs": [],
   "source": []
  }
 ],
 "metadata": {
  "kernelspec": {
   "display_name": "Python 3",
   "language": "python",
   "name": "python3"
  },
  "language_info": {
   "codemirror_mode": {
    "name": "ipython",
    "version": 3
   },
   "file_extension": ".py",
   "mimetype": "text/x-python",
   "name": "python",
   "nbconvert_exporter": "python",
   "pygments_lexer": "ipython3",
   "version": "3.8.5"
  }
 },
 "nbformat": 4,
 "nbformat_minor": 5
}
