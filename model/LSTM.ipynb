{
 "cells": [
  {
   "cell_type": "code",
   "execution_count": 27,
   "id": "e673ca58",
   "metadata": {},
   "outputs": [
    {
     "data": {
      "text/plain": [
       "'\\n    number of trajectories in each city\\n    # austin --  train: 43041 test: 6325 \\n    # miami -- train: 55029 test:7971\\n    # pittsburgh -- train: 43544 test: 6361\\n    # dearborn -- train: 24465 test: 3671\\n    # washington-dc -- train: 25744 test: 3829\\n    # palo-alto -- train:  11993 test:1686\\n\\n    trajectories sampled at 10HZ rate, input 5 seconds, output 6 seconds\\n    \\n'"
      ]
     },
     "execution_count": 27,
     "metadata": {},
     "output_type": "execute_result"
    }
   ],
   "source": [
    "import torch\n",
    "from torch.utils.data import Dataset, DataLoader\n",
    "import os, os.path \n",
    "import numpy \n",
    "import pickle\n",
    "import matplotlib.pyplot as plt\n",
    "from glob import glob\n",
    "import torch.autograd as autograd\n",
    "import torch.nn as nn\n",
    "import torch.nn.functional as F\n",
    "import torch.optim as optim\n",
    "from torch.autograd import Variable\n",
    "from timeit import default_timer as timer\n",
    "\"\"\"\n",
    "    number of trajectories in each city\n",
    "    # austin --  train: 43041 test: 6325 \n",
    "    # miami -- train: 55029 test:7971\n",
    "    # pittsburgh -- train: 43544 test: 6361\n",
    "    # dearborn -- train: 24465 test: 3671\n",
    "    # washington-dc -- train: 25744 test: 3829\n",
    "    # palo-alto -- train:  11993 test:1686\n",
    "\n",
    "    trajectories sampled at 10HZ rate, input 5 seconds, output 6 seconds\n",
    "    \n",
    "\"\"\""
   ]
  },
  {
   "cell_type": "code",
   "execution_count": 28,
   "id": "ccd2714c",
   "metadata": {},
   "outputs": [],
   "source": [
    "from glob import glob\n",
    "import pickle\n",
    "import numpy as np\n",
    "from sklearn.preprocessing import MinMaxScaler\n",
    "\n",
    "ROOT_PATH = \"./argo2/\"\n",
    "\n",
    "cities = [\"austin\", \"miami\", \"pittsburgh\", \"dearborn\", \"washington-dc\", \"palo-alto\"]\n",
    "splits = [\"train\", \"test\"]\n",
    "sc = MinMaxScaler()\n",
    "\n",
    "def get_city_trajectories(city=\"palo-alto\", split=\"train\", normalized=False):\n",
    "    \n",
    "    outputs = None\n",
    "    \n",
    "    if split==\"train\":\n",
    "        f_in = ROOT_PATH + split + \"/\" + city + \"_inputs\"\n",
    "        inputs = pickle.load(open(f_in, \"rb\"))\n",
    "        n = len(inputs)\n",
    "        inputs = np.asarray(inputs)[:int(n * 0.8)]\n",
    "        \n",
    "        f_out = ROOT_PATH + split + \"/\" + city + \"_outputs\"\n",
    "        outputs = pickle.load(open(f_out, \"rb\"))\n",
    "        outputs = np.asarray(outputs)[:int(n * 0.8)]\n",
    "        \n",
    "        full_data = np.concatenate((inputs, outputs), axis=1)\n",
    "        full_data = full_data.reshape((-1,110))\n",
    "        full_data = sc.fit_transform(full_data)\n",
    "        full_data = full_data.reshape((-1,110,2))\n",
    "        full_data = np.split(full_data, [50,110], axis=1)\n",
    "        \n",
    "        inputs = Variable(torch.tensor(full_data[0], dtype=torch.float32))\n",
    "        outputs = Variable(torch.tensor(full_data[1], dtype=torch.float32))\n",
    "        \n",
    "    elif split == 'val':\n",
    "        f_in = ROOT_PATH + 'train' + \"/\" + city + \"_inputs\"\n",
    "        inputs = pickle.load(open(f_in, \"rb\"))\n",
    "        n = len(inputs)\n",
    "        inputs = np.asarray(inputs)[int(n * 0.8):]\n",
    "        \n",
    "        f_out = ROOT_PATH + 'train' + \"/\" + city + \"_outputs\"\n",
    "        outputs = pickle.load(open(f_out, \"rb\"))\n",
    "        outputs = np.asarray(outputs)[int(n * 0.8):]\n",
    "        \n",
    "        full_data = np.concatenate((inputs, outputs), axis=1)\n",
    "        full_data = full_data.reshape((-1,110))\n",
    "        full_data = sc.fit_transform(full_data)\n",
    "        full_data = full_data.reshape((-1,110,2))\n",
    "        full_data = np.split(full_data, [50,110], axis=1)\n",
    "        \n",
    "        inputs = Variable(torch.tensor(full_data[0], dtype=torch.float32))\n",
    "        outputs = Variable(torch.tensor(full_data[1], dtype=torch.float32))\n",
    "    \n",
    "    else:\n",
    "        f_in = ROOT_PATH + split + \"/\" + city + \"_inputs\"\n",
    "        inputs = pickle.load(open(f_in, \"rb\"))\n",
    "        n = len(inputs)\n",
    "        inputs = np.asarray(inputs)\n",
    "        \n",
    "        full_data = np.concatenate((inputs, outputs), axis=1)\n",
    "        full_data = full_data.reshape((-1,110))\n",
    "        full_data = sc.fit_transform(full_data)\n",
    "        full_data = full_data.reshape((-1,110,2))\n",
    "        full_data = np.split(full_data, [50,110], axis=1)\n",
    "        \n",
    "        inputs = Variable(torch.tensor(full_data[0], dtype=torch.float32))\n",
    "        outputs = Variable(torch.tensor(full_data[1], dtype=torch.float32))\n",
    "\n",
    "    return inputs, outputs\n",
    "\n",
    "class ArgoverseDataset(Dataset):\n",
    "    \"\"\"Dataset class for Argoverse\"\"\"\n",
    "    def __init__(self, city: str, split:str, transform=None):\n",
    "        super(ArgoverseDataset, self).__init__()\n",
    "        self.transform = transform\n",
    "\n",
    "        self.inputs, self.outputs = get_city_trajectories(city=city, split=split, normalized=False)\n",
    "\n",
    "    def __len__(self):\n",
    "        return len(self.inputs)\n",
    "\n",
    "    def __getitem__(self, idx):\n",
    "\n",
    "        data = (self.inputs[idx], self.outputs[idx])\n",
    "            \n",
    "        if self.transform:\n",
    "            data = self.transform(data)\n",
    "\n",
    "        return data\n",
    "\n",
    "# intialize a dataset\n",
    "city = 'palo-alto' \n",
    "split = 'train'\n",
    "train_dataset  = ArgoverseDataset(city = city, split = split)"
   ]
  },
  {
   "cell_type": "code",
   "execution_count": 29,
   "id": "d8868de2",
   "metadata": {},
   "outputs": [],
   "source": [
    "train_dataset = ArgoverseDataset(city = city, split= 'train')\n",
    "val_dataset = ArgoverseDataset(city = city, split = 'val')"
   ]
  },
  {
   "cell_type": "code",
   "execution_count": 30,
   "id": "7bc358f0",
   "metadata": {},
   "outputs": [
    {
     "data": {
      "text/plain": [
       "<matplotlib.collections.PathCollection at 0x7fd552b7ebb0>"
      ]
     },
     "execution_count": 30,
     "metadata": {},
     "output_type": "execute_result"
    },
    {
     "data": {
      "image/png": "[encoded data removed]",
      "text/plain": [
       "<Figure size 432x288 with 1 Axes>"
      ]
     },
     "metadata": {
      "needs_background": "light"
     },
     "output_type": "display_data"
    }
   ],
   "source": [
    "import matplotlib.pyplot as plt\n",
    "plt.scatter(train_dataset[0][0][:,0],train_dataset[0][0][:,1])"
   ]
  },
  {
   "cell_type": "code",
   "execution_count": 31,
   "id": "6f57e07f",
   "metadata": {},
   "outputs": [
    {
     "data": {
      "text/plain": [
       "<matplotlib.collections.PathCollection at 0x7fd552acdfa0>"
      ]
     },
     "execution_count": 31,
     "metadata": {},
     "output_type": "execute_result"
    },
    {
     "data": {
      "image/png": "[encoded data removed]",
      "text/plain": [
       "<Figure size 432x288 with 1 Axes>"
      ]
     },
     "metadata": {
      "needs_background": "light"
     },
     "output_type": "display_data"
    }
   ],
   "source": [
    "test = torch.vstack((train_dataset[0][0], train_dataset[0][1])).reshape(-1,110)\n",
    "test = sc.inverse_transform(test)\n",
    "test = test.reshape(110,2)\n",
    "plt.scatter(test[:50,0], test[:50,1])"
   ]
  },
  {
   "cell_type": "code",
   "execution_count": 32,
   "id": "ce3ee483",
   "metadata": {},
   "outputs": [],
   "source": [
    "batch_sz = 50  # batch size \n",
    "val_loader = DataLoader(val_dataset,batch_size=batch_sz)\n",
    "train_loader = DataLoader(train_dataset,batch_size=batch_sz)"
   ]
  },
  {
   "cell_type": "code",
   "execution_count": 33,
   "id": "c4a2df55",
   "metadata": {},
   "outputs": [],
   "source": [
    "class LSTM(nn.Module):\n",
    "\n",
    "    def __init__(self, num_classes, input_size, hidden_size, num_layers):\n",
    "        super(LSTM, self).__init__()\n",
    "        \n",
    "        self.num_classes = num_classes\n",
    "        self.num_layers = num_layers\n",
    "        self.input_size = input_size\n",
    "        self.hidden_size = hidden_size\n",
    "        self.seq_length = seq_length\n",
    "        \n",
    "        self.lstm = nn.LSTM(input_size=input_size, hidden_size=hidden_size,\n",
    "                            num_layers=num_layers, batch_first=True)\n",
    "        \n",
    "        self.fc = nn.Linear(hidden_size, num_classes)\n",
    "        \n",
    "    def forward(self, x):  \n",
    "        \n",
    "        h_0 = Variable(torch.zeros(\n",
    "            self.num_layers, x.size(0), self.hidden_size))\n",
    "        \n",
    "        c_0 = Variable(torch.zeros(\n",
    "            self.num_layers, x.size(0), self.hidden_size))\n",
    "        \n",
    "        # Propagate input through LSTM\n",
    "        ula, (h_out, _) = self.lstm(x, (h_0, c_0))\n",
    "        \n",
    "        h_out = h_out.view(-1, self.hidden_size)\n",
    "        \n",
    "        out = self.fc(h_out)\n",
    "        \n",
    "        return out"
   ]
  },
  {
   "cell_type": "code",
   "execution_count": 34,
   "id": "2ab4bb32",
   "metadata": {},
   "outputs": [],
   "source": [
    "seq_length = 50\n",
    "num_epochs = 10\n",
    "learning_rate = 0.01\n",
    "\n",
    "input_size = 2\n",
    "hidden_size = 50\n",
    "num_layers = 1\n",
    "\n",
    "num_classes = 2\n",
    "\n",
    "lstm = LSTM(num_classes, input_size, hidden_size, num_layers)"
   ]
  },
  {
   "cell_type": "code",
   "execution_count": 6,
   "id": "9299ba8d",
   "metadata": {
    "scrolled": false
   },
   "outputs": [
    {
     "name": "stdout",
     "output_type": "stream",
     "text": [
      "epoch 0 loss: 0.0002077645033225873\n",
      "epoch 1 loss: 6.22388784414188e-06\n",
      "epoch 2 loss: 4.508034372833434e-06\n",
      "epoch 3 loss: 4.089621112160233e-06\n",
      "epoch 4 loss: 3.3664878518743662e-06\n",
      "epoch 5 loss: 4.057598363666476e-06\n",
      "epoch 6 loss: 1.8017910194667405e-06\n",
      "epoch 7 loss: 2.653271330012561e-06\n",
      "epoch 8 loss: 7.3747969280840595e-06\n",
      "epoch 9 loss: 1.106646673244142e-05\n"
     ]
    }
   ],
   "source": [
    "criterion = torch.nn.MSELoss()    # mean-squared error for regression\n",
    "optimizer = torch.optim.Adam(lstm.parameters(), lr=learning_rate)\n",
    "\n",
    "\n",
    "for epoch in range(num_epochs):\n",
    "    total_loss = 0\n",
    "    start = timer()\n",
    "    for i_batch, sample_batch in enumerate(train_loader):\n",
    "        inp, out = sample_batch\n",
    "        for i in range(60):\n",
    "            temp_out = out[:,i,:]\n",
    "            outputs = lstm(inp)\n",
    "            optimizer.zero_grad()\n",
    "            loss = criterion(outputs, temp_out)\n",
    "            loss.backward()\n",
    "            optimizer.step()\n",
    "            total_loss+=loss.item()\n",
    "            temp_out = temp_out.reshape((-1,1,2))\n",
    "            inp = torch.cat((inp[:,1:],temp_out), axis=1)\n",
    "    end = timer()\n",
    "    time = end - start\n",
    "    print('epoch {} loss: {} time: {}'.format(epoch, total_loss / len(train_dataset_pa), time))"
   ]
  },
  {
   "cell_type": "code",
   "execution_count": 22,
   "id": "e6e71321",
   "metadata": {},
   "outputs": [],
   "source": [
    "torch.save(lstm.state_dict(), \"lstm.pth\")"
   ]
  },
  {
   "cell_type": "code",
   "execution_count": 35,
   "id": "651d6195",
   "metadata": {},
   "outputs": [
    {
     "data": {
      "text/plain": [
       "<All keys matched successfully>"
      ]
     },
     "execution_count": 35,
     "metadata": {},
     "output_type": "execute_result"
    }
   ],
   "source": [
    "lstm.load_state_dict(torch.load(\"lstm.pth\"))"
   ]
  },
  {
   "cell_type": "code",
   "execution_count": 77,
   "id": "09c4638c",
   "metadata": {
    "scrolled": true
   },
   "outputs": [],
   "source": [
    "def create_random_plot():\n",
    "    for i_batch, sample_batch in enumerate(val_loader):\n",
    "        rand = np.random.randint(batch_sz, size=1)\n",
    "        rand=45\n",
    "        inp, out = sample_batch\n",
    "        true_full = np.concatenate((inp,out),axis=1)\n",
    "        preds = []\n",
    "        for i in range(50):\n",
    "            preds.append(np.array(inp[rand,i,:]))\n",
    "        for i in range(60):\n",
    "            pred = lstm(torch.tensor(true_full[:,i:i+50,:],dtype=torch.float32)).detach().numpy()\n",
    "            preds.append(np.array(pred[rand,:]))\n",
    "        preds = np.array(preds).reshape(-1,110)\n",
    "        preds = sc.inverse_transform(preds)\n",
    "        preds = preds.reshape(110,2)\n",
    "        pred_x = preds[50:,0]\n",
    "        pred_y = preds[50:,1]\n",
    "        true_full = true_full.reshape(-1,110)\n",
    "        true_full = sc.inverse_transform(true_full)\n",
    "        true_full = true_full.reshape(-1,110,2)\n",
    "        true_x_in = true_full[rand,:50,0]\n",
    "        true_y_in = true_full[rand,:50,1]\n",
    "        true_x_out = true_full[rand,50:,0]\n",
    "        true_y_out = true_full[rand,50:,1]\n",
    "        plt.scatter(true_x_in,true_y_in, color='red', alpha=0.5, label=\"Input Points\")\n",
    "        plt.scatter(true_x_out,true_y_out, color='blue', alpha=0.5, label=\"Ground Truth\")\n",
    "        plt.scatter(pred_x,pred_y, color='green', alpha=0.5, label=\"Predictions\")\n",
    "        plt.legend()\n",
    "        plt.show()\n",
    "        break"
   ]
  },
  {
   "cell_type": "code",
   "execution_count": 78,
   "id": "87fc8453",
   "metadata": {
    "scrolled": true
   },
   "outputs": [
    {
     "data": {
      "image/png": "[encoded data removed]",
      "text/plain": [
       "<Figure size 432x288 with 1 Axes>"
      ]
     },
     "metadata": {
      "needs_background": "light"
     },
     "output_type": "display_data"
    }
   ],
   "source": [
    "create_random_plot()"
   ]
  },
  {
   "cell_type": "code",
   "execution_count": 5,
   "id": "0d7ede09",
   "metadata": {},
   "outputs": [],
   "source": [
    "from timeit import default_timer as timer"
   ]
  },
  {
   "cell_type": "code",
   "execution_count": 6,
   "id": "f4a4520b",
   "metadata": {},
   "outputs": [],
   "source": [
    "def test():\n",
    "    for i in range(10):\n",
    "        start = timer()\n",
    "        hello = \"hello\"\n",
    "        end = timer()\n",
    "        print(end - start)"
   ]
  },
  {
   "cell_type": "code",
   "execution_count": 7,
   "id": "6acc8c1e",
   "metadata": {},
   "outputs": [
    {
     "name": "stdout",
     "output_type": "stream",
     "text": [
      "8.204951882362366e-07\n",
      "5.997717380523682e-07\n",
      "4.33996319770813e-07\n",
      "5.392357707023621e-07\n",
      "4.023313522338867e-07\n",
      "4.637986421585083e-07\n",
      "4.805624485015869e-07\n",
      "3.9301812648773193e-07\n",
      "3.7997961044311523e-07\n",
      "4.367902874946594e-07\n"
     ]
    }
   ],
   "source": [
    "test()"
   ]
  },
  {
   "cell_type": "code",
   "execution_count": 79,
   "id": "3c96d153",
   "metadata": {},
   "outputs": [],
   "source": [
    "data = [0.0002077645033225873, 6.22388784414188e-06, 4.508034372833434e-06, 4.089621112160233e-06,\n",
    "                         3.3664878518743662e-06, 4.057598363666476e-06, 1.8017910194667405e-06,\n",
    "                         2.653271330012561e-06, 7.3747969280840595e-06, 1.106646673244142e-05]"
   ]
  },
  {
   "cell_type": "code",
   "execution_count": 83,
   "id": "8cd02e13",
   "metadata": {},
   "outputs": [
    {
     "data": {
      "text/plain": [
       "Text(0.5, 1.0, 'Training Loss')"
      ]
     },
     "execution_count": 83,
     "metadata": {},
     "output_type": "execute_result"
    },
    {
     "data": {
      "image/png": "[encoded data removed]",
      "text/plain": [
       "<Figure size 432x288 with 1 Axes>"
      ]
     },
     "metadata": {
      "needs_background": "light"
     },
     "output_type": "display_data"
    }
   ],
   "source": [
    "plt.plot([1,2,3,4,5,6,7,8,9,10], data)\n",
    "plt.xlabel(\"Num of Epochs\")\n",
    "plt.ylabel(\"MSE\")\n",
    "plt.title(\"Training Loss\")"
   ]
  },
  {
   "cell_type": "code",
   "execution_count": 87,
   "id": "50dbf318",
   "metadata": {},
   "outputs": [
    {
     "data": {
      "text/html": [
       "<div>\n",
       "<style scoped>\n",
       "    .dataframe tbody tr th:only-of-type {\n",
       "        vertical-align: middle;\n",
       "    }\n",
       "\n",
       "    .dataframe tbody tr th {\n",
       "        vertical-align: top;\n",
       "    }\n",
       "\n",
       "    .dataframe thead th {\n",
       "        text-align: right;\n",
       "    }\n",
       "</style>\n",
       "<table border=\"1\" class=\"dataframe\">\n",
       "  <thead>\n",
       "    <tr style=\"text-align: right;\">\n",
       "      <th></th>\n",
       "      <th>Kaggle Public</th>\n",
       "      <th>Kaggle Private</th>\n",
       "    </tr>\n",
       "  </thead>\n",
       "  <tbody>\n",
       "    <tr>\n",
       "      <th>0</th>\n",
       "      <td>144.30619</td>\n",
       "      <td>145.28286</td>\n",
       "    </tr>\n",
       "  </tbody>\n",
       "</table>\n",
       "</div>"
      ],
      "text/plain": [
       "   Kaggle Public  Kaggle Private\n",
       "0      144.30619       145.28286"
      ]
     },
     "execution_count": 87,
     "metadata": {},
     "output_type": "execute_result"
    }
   ],
   "source": [
    "import pandas as pd\n",
    "pd.DataFrame([[144.30619,145.28286]], columns=[\"Kaggle Public\", \"Kaggle Private\"])"
   ]
  },
  {
   "cell_type": "code",
   "execution_count": null,
   "id": "ce97599e",
   "metadata": {},
   "outputs": [],
   "source": []
  }
 ],
 "metadata": {
  "kernelspec": {
   "display_name": "Python 3 (clean)",
   "language": "python",
   "name": "python3_clean"
  },
  "language_info": {
   "codemirror_mode": {
    "name": "ipython",
    "version": 3
   },
   "file_extension": ".py",
   "mimetype": "text/x-python",
   "name": "python",
   "nbconvert_exporter": "python",
   "pygments_lexer": "ipython3",
   "version": "3.9.5"
  }
 },
 "nbformat": 4,
 "nbformat_minor": 5
}
